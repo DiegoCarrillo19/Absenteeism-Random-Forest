{
  "nbformat": 4,
  "nbformat_minor": 0,
  "metadata": {
    "colab": {
      "provenance": [],
      "authorship_tag": "ABX9TyPyS0TdvXilUMS3jHn4v9DC",
      "include_colab_link": true
    },
    "kernelspec": {
      "name": "python3",
      "display_name": "Python 3"
    },
    "language_info": {
      "name": "python"
    }
  },
  "cells": [
    {
      "cell_type": "markdown",
      "metadata": {
        "id": "view-in-github",
        "colab_type": "text"
      },
      "source": [
        "<a href=\"https://colab.research.google.com/github/DiegoCarrillo19/Absenteeism-Random-Forest/blob/main/Transformar_tree_rules_txt_a_csv.ipynb\" target=\"_parent\"><img src=\"https://colab.research.google.com/assets/colab-badge.svg\" alt=\"Open In Colab\"/></a>"
      ]
    },
    {
      "cell_type": "code",
      "execution_count": 1,
      "metadata": {
        "colab": {
          "base_uri": "https://localhost:8080/"
        },
        "id": "tFuRJ0kcwz9O",
        "outputId": "f0bf5219-1b3b-4a87-b5e0-6c9aaff46222"
      },
      "outputs": [
        {
          "output_type": "stream",
          "name": "stdout",
          "text": [
            "Archivo 'tree_rules_parsed.csv' creado con éxito.\n"
          ]
        }
      ],
      "source": [
        "import re\n",
        "import csv\n",
        "\n",
        "def parse_tree_rules(rules_text):\n",
        "    \"\"\"\n",
        "    Parsea las reglas del árbol desde el texto y devuelve una lista de dicts con columnas:\n",
        "    level, feature, operator, threshold, class, rule_text\n",
        "    \"\"\"\n",
        "    lines = rules_text.strip().split('\\n')\n",
        "    data = []\n",
        "\n",
        "    for line in lines:\n",
        "        # Contar nivel por cantidad de \"|   \"\n",
        "        level = line.count('|   ')\n",
        "\n",
        "        # Quitar los | y espacios iniciales\n",
        "        line_clean = line.replace('|   ', '').replace('|--- ', '').strip()\n",
        "\n",
        "        # Detectar si es nodo hoja\n",
        "        class_match = re.search(r'class: (\\d+)', line_clean)\n",
        "        if class_match:\n",
        "            # Nodo hoja con clase predicha\n",
        "            class_label = class_match.group(1)\n",
        "            data.append({\n",
        "                'level': level,\n",
        "                'feature': None,\n",
        "                'operator': None,\n",
        "                'threshold': None,\n",
        "                'class': class_label,\n",
        "                'rule_text': line_clean\n",
        "            })\n",
        "        else:\n",
        "            # Nodo interno: separar feature, operador y umbral\n",
        "            # Ejemplo: Age <= 38.54\n",
        "            m = re.match(r'([\\w_]+)\\s*([<>=]+)\\s*([\\d\\.]+)', line_clean)\n",
        "            if m:\n",
        "                feature, operator, threshold = m.groups()\n",
        "                data.append({\n",
        "                    'level': level,\n",
        "                    'feature': feature,\n",
        "                    'operator': operator,\n",
        "                    'threshold': threshold,\n",
        "                    'class': None,\n",
        "                    'rule_text': line_clean\n",
        "                })\n",
        "            else:\n",
        "                # Línea que no cumple el patrón esperado (posible problema)\n",
        "                data.append({\n",
        "                    'level': level,\n",
        "                    'feature': None,\n",
        "                    'operator': None,\n",
        "                    'threshold': None,\n",
        "                    'class': None,\n",
        "                    'rule_text': line_clean\n",
        "                })\n",
        "    return data\n",
        "\n",
        "# --- EJEMPLO DE USO ---\n",
        "\n",
        "# Lee las reglas del archivo (puedes cambiar por tu archivo)\n",
        "with open('reglas_arbol.txt', 'r') as f:\n",
        "    rules_text = f.read()\n",
        "\n",
        "parsed_rules = parse_tree_rules(rules_text)\n",
        "\n",
        "# Exportar a CSV para cargar en Power BI\n",
        "keys = ['level', 'feature', 'operator', 'threshold', 'class', 'rule_text']\n",
        "with open('tree_rules_parsed.csv', 'w', newline='') as output_file:\n",
        "    dict_writer = csv.DictWriter(output_file, fieldnames=keys)\n",
        "    dict_writer.writeheader()\n",
        "    dict_writer.writerows(parsed_rules)\n",
        "\n",
        "print(\"Archivo 'tree_rules_parsed.csv' creado con éxito.\")\n"
      ]
    }
  ]
}