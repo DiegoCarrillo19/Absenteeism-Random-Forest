{
  "nbformat": 4,
  "nbformat_minor": 0,
  "metadata": {
    "colab": {
      "provenance": [],
      "authorship_tag": "ABX9TyODi/YT/yc+QLSN0bSiG02N",
      "include_colab_link": true
    },
    "kernelspec": {
      "name": "python3",
      "display_name": "Python 3"
    },
    "language_info": {
      "name": "python"
    }
  },
  "cells": [
    {
      "cell_type": "markdown",
      "metadata": {
        "id": "view-in-github",
        "colab_type": "text"
      },
      "source": [
        "<a href=\"https://colab.research.google.com/github/DiegoCarrillo19/Absenteeism-Random-Forest/blob/main/Transformar_tree_rules_txt_a_csv.ipynb\" target=\"_parent\"><img src=\"https://colab.research.google.com/assets/colab-badge.svg\" alt=\"Open In Colab\"/></a>"
      ]
    },
    {
      "cell_type": "code",
      "execution_count": 2,
      "metadata": {
        "colab": {
          "base_uri": "https://localhost:8080/"
        },
        "id": "tFuRJ0kcwz9O",
        "outputId": "9cdd9397-f8ea-45e5-9518-93ec6b42a6fb"
      },
      "outputs": [
        {
          "output_type": "stream",
          "name": "stdout",
          "text": [
            "Archivo 'tree_rules_parsed_full.csv' creado con éxito.\n"
          ]
        }
      ],
      "source": [
        "import re\n",
        "import csv\n",
        "\n",
        "def parse_tree_rules(rules_text):\n",
        "    lines = rules_text.strip().split('\\n')\n",
        "    data = []\n",
        "    stack = []  # para guardar condiciones por nivel\n",
        "\n",
        "    for line in lines:\n",
        "        level = line.count('|   ')\n",
        "        line_clean = line.replace('|   ', '').replace('|--- ', '').strip()\n",
        "        class_match = re.search(r'class: (\\d+)', line_clean)\n",
        "\n",
        "        if class_match:\n",
        "            class_label = class_match.group(1)\n",
        "            # Al encontrar nodo hoja, la regla completa es la concatenación del stack + esta clase\n",
        "            full_rule = \" AND \".join(stack[:level]) if level > 0 else \"\"\n",
        "            full_rule += f\" => class: {class_label}\"\n",
        "            data.append({\n",
        "                'level': level,\n",
        "                'feature': None,\n",
        "                'operator': None,\n",
        "                'threshold': None,\n",
        "                'class': class_label,\n",
        "                'rule_text': line_clean,\n",
        "                'full_rule': full_rule\n",
        "            })\n",
        "        else:\n",
        "            m = re.match(r'([\\w_]+)\\s*([<>=]+)\\s*([\\d\\.]+)', line_clean)\n",
        "            if m:\n",
        "                feature, operator, threshold = m.groups()\n",
        "                condition = f\"{feature} {operator} {threshold}\"\n",
        "\n",
        "                # Actualizar stack (guardar condición por nivel)\n",
        "                if level == len(stack):\n",
        "                    stack.append(condition)\n",
        "                else:\n",
        "                    stack = stack[:level] + [condition]\n",
        "\n",
        "                data.append({\n",
        "                    'level': level,\n",
        "                    'feature': feature,\n",
        "                    'operator': operator,\n",
        "                    'threshold': threshold,\n",
        "                    'class': None,\n",
        "                    'rule_text': line_clean,\n",
        "                    'full_rule': None\n",
        "                })\n",
        "            else:\n",
        "                data.append({\n",
        "                    'level': level,\n",
        "                    'feature': None,\n",
        "                    'operator': None,\n",
        "                    'threshold': None,\n",
        "                    'class': None,\n",
        "                    'rule_text': line_clean,\n",
        "                    'full_rule': None\n",
        "                })\n",
        "    return data\n",
        "\n",
        "# --- EJEMPLO DE USO ---\n",
        "with open('reglas_arbol.txt', 'r') as f:\n",
        "    rules_text = f.read()\n",
        "\n",
        "parsed_rules = parse_tree_rules(rules_text)\n",
        "\n",
        "keys = ['level', 'feature', 'operator', 'threshold', 'class', 'rule_text', 'full_rule']\n",
        "with open('tree_rules_parsed_full.csv', 'w', newline='') as output_file:\n",
        "    dict_writer = csv.DictWriter(output_file, fieldnames=keys)\n",
        "    dict_writer.writeheader()\n",
        "    dict_writer.writerows(parsed_rules)\n",
        "\n",
        "print(\"Archivo 'tree_rules_parsed_full.csv' creado con éxito.\")\n",
        "\n"
      ]
    }
  ]
}